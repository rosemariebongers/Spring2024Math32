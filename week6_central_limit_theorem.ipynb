{
 "cells": [
  {
   "cell_type": "markdown",
   "id": "35075e8a-b4f4-4393-b9d1-7b4fd4366fd3",
   "metadata": {},
   "source": [
    "<h2> Exploring the Central Limit Theorem </h2>\n",
    "\n",
    "In this notebook, we're going to explore the central limit theorem. The theorem says that as $N \\to \\infty$, an appropriately scaled average of $N$ IID random variables will converge to a normal distribution. A natural question that comes up is how large $N$ should be in order to use the central limit theorem accurately and efficiently: if $N$ is too small, then the limit is a bad approximation and if $N$ is too large, we require too much data to be practical.\n",
    "\n",
    "In this notebook, you'll explore averages of exponential random variables -- similar to the waiting time examples we've talked about.\n",
    "\n",
    "If you are averaging 30 exponential random variables with distribution $\\operatorname{Exp}(1/10)$, you can approximate the average as $\\operatorname{N(10, 100/30)}.$ This is because the underlying distribution has mean $10$ and variance $100$; remember that the variance of the average is $\\sigma^2 / n$.\n",
    "\n",
    "We can also just directly simulate $P(\\overline{X}_{30} > 14)$ by generating exponential random variables. Code below does this.\n",
    "\n",
    "The central limit theorem estimate for the probability is about $1.4\\%$, while the simulated sum of $30$ exponential variables is around $2.2\\%$ (using $10^6$ trials). \n",
    "\n",
    "Although these numbers are on the same scale (each representing a fairly unlikely outcome that's not too extreme), they are still off by nearly $60\\%$. This is because $30$ is a small number of trials, and the central limit theorem improves as we take a larger number of trials.\n",
    "\n",
    "<h3> Questions </h3>\n",
    "\n",
    "You'll explore some of these probabilities and see how the estimates improve as $N$ increases; this will give you a feel for when the CLT is actually applicable in practice. \n",
    "\n",
    "* Verify the numbers above, that the probability that a sum of $30$ IID $\\operatorname{Exp}(1/10)$ random variables will have probability around $0.022$ of being $\\ge 14$.\n",
    "\n",
    "* For a sum of $100$ IID $\\operatorname{Exp}(1/10)$ random variables, simulate the probability that the average is $\\ge 11$ and $\\le 9$. Compare this to the results of the central limit theorem; is there better agreement than with $30$ random variables?\n",
    "\n",
    "To help get you started, the following code implements the z-score calculation. You can also look at recent notebooks to find code that implements a running sum of samples and code that implements the uniform distribution. One useful trick to remember is that if $R$ is a $\\operatorname{Unif}(0, 1)$ random variable, then $2R - 1$ has a $\\operatorname{Unif}(-1, 1)$ distribution."
   ]
  },
  {
   "cell_type": "code",
   "execution_count": 2,
   "id": "177d83c5-74f9-4391-b26e-996598c3232d",
   "metadata": {},
   "outputs": [],
   "source": [
    "# The packages we'll need\n",
    "from math import sqrt, log\n",
    "from random import random\n",
    "\n",
    "def exp(lamb):\n",
    "    # Generate an exponentially distributed random variable \n",
    "    # from the Exp(lamb) distribution\n",
    "    r = random()\n",
    "    return -log(r) / lamb\n",
    "    \n",
    "def zScore(mu, var, observed, N):\n",
    "    # Compute the z-score of an observation given \n",
    "    # the number of trials (N) of IID random variables\n",
    "    # all having mean mu and variance var\n",
    "    return (observed - mu) / sqrt(var / N)\n",
    "\n",
    "# Example usage\n",
    "# print(f'z-score: {zScore(10, 100, 14, 30)}')"
   ]
  },
  {
   "cell_type": "code",
   "execution_count": 14,
   "id": "35158957-3327-4df9-b696-efe0cc2cfb6d",
   "metadata": {},
   "outputs": [
    {
     "name": "stdout",
     "output_type": "stream",
     "text": [
      "First random average: 6.037214750271872\n"
     ]
    }
   ],
   "source": [
    "# Starting to implement this: get our data and run one trial\n",
    "data = [exp(1/10) for _ in range(30)]\n",
    "average = sum(data) / len(data)\n",
    "\n",
    "# Put the rest of your code here\n",
    "print(f'First random average: {average}')"
   ]
  },
  {
   "cell_type": "markdown",
   "id": "38f686e5-5b94-475d-8695-c33196673cdc",
   "metadata": {},
   "source": [
    "*Put your analysis here.*"
   ]
  }
 ],
 "metadata": {
  "kernelspec": {
   "display_name": "Python 3 (ipykernel)",
   "language": "python",
   "name": "python3"
  },
  "language_info": {
   "codemirror_mode": {
    "name": "ipython",
    "version": 3
   },
   "file_extension": ".py",
   "mimetype": "text/x-python",
   "name": "python",
   "nbconvert_exporter": "python",
   "pygments_lexer": "ipython3",
   "version": "3.11.7"
  }
 },
 "nbformat": 4,
 "nbformat_minor": 5
}

{
 "cells": [
  {
   "cell_type": "markdown",
   "id": "450982b8-23c6-48a0-8935-3741db9d4ae5",
   "metadata": {},
   "source": [
    "<h3> Course evaluations analysis </h3>\n",
    "\n",
    "This notebook takes in course evaluation statistical data from two semesters and compares to see if there is a statistically significant difference between them. The notebook implements [Welch's t-test](https://en.wikipedia.org/wiki/Welch%27s_t-test) to test for significance."
   ]
  },
  {
   "cell_type": "code",
   "execution_count": 64,
   "id": "2d5496c5-db51-4923-8e0e-0cee757033d9",
   "metadata": {},
   "outputs": [],
   "source": [
    "from scipy.stats import t\n",
    "\n",
    "def tStatistic(mean1, sd1, n1, mean2, sd2, n2):\n",
    "    # Import the mean, standard deviation, and\n",
    "    # number of samples from two data sets and\n",
    "    # report the t-score and the degrees of freedom\n",
    "    # derived from Welch-Satterthwaite.\n",
    "\n",
    "    tScore = (mean1 - mean2) / (sd1**2/n1 + sd2**2/n2)**.5\n",
    "    s1bar = sd1/n1**.5\n",
    "    s2bar = sd2/n2**.5\n",
    "    \n",
    "    df = (s1bar**2 + s2bar**2)**2 / (s1bar**4/(n1-1) + s2bar**4/(n2-1))\n",
    "    df = int(df)\n",
    "\n",
    "    return [tScore, df]\n",
    "\n",
    "def pValue(mean1, sd1, n1, mean2, sd2, n2):\n",
    "    [tScore, df] = tStatistic(mean1, sd1, n1, mean2, sd2, n2)\n",
    "    p = t.cdf(tScore, df)\n",
    "    return min(p, 1 - p)\n",
    "    "
   ]
  },
  {
   "cell_type": "code",
   "execution_count": 68,
   "id": "95ae884a-7263-446f-a247-81d3dfcf831c",
   "metadata": {},
   "outputs": [],
   "source": [
    "def test(level, springMeans, springSDs, springNs,\n",
    "        fallMeans, fallSDs, fallNs):\n",
    "    \n",
    "    print(f'Testing for significance at level {level}\\n')\n",
    "\n",
    "    # Loop over the questions.\n",
    "    for q in range(len(springMeans)):\n",
    "\n",
    "        # Load the data\n",
    "        mean1 = springMeans[q]\n",
    "        mean2 = fallMeans[q]\n",
    "        sd1 = springSDs[q]\n",
    "        sd2 = fallSDs[q]\n",
    "        n1 = springNs[q]\n",
    "        n2 = fallNs[q]\n",
    "\n",
    "        # No change: continue to the next iteration\n",
    "        if mean1 == mean2:\n",
    "            print(f'Question {q+1}: no change')\n",
    "            continue\n",
    "\n",
    "        # Otherwise, compute the p value\n",
    "        p = pValue(mean1, sd1, n1, mean2, sd2, n2)\n",
    "\n",
    "        # Decide if score went up or down\n",
    "        if mean1 > mean2: \n",
    "            verb = 'increase'\n",
    "        else:\n",
    "            verb = 'decrease'\n",
    "\n",
    "        # Decide if significant or not\n",
    "        sig = ''\n",
    "        if p < level: \n",
    "            sig = ' --  significant'\n",
    "    \n",
    "        # Print the output with p-value truncated to\n",
    "        # two decimal places. Handle the printing \n",
    "        # differently if the p-value is too close to 0\n",
    "        if p > 0.005:\n",
    "            print(f'Question {q+1}: {verb}, p = {p:.2f} {sig}')\n",
    "        else:\n",
    "            print(f'Question {q+1}: {verb}, p < 0.01 {sig}')"
   ]
  },
  {
   "cell_type": "code",
   "execution_count": 69,
   "id": "6e95e27d-0684-44d1-8367-6e27a1e74006",
   "metadata": {},
   "outputs": [
    {
     "name": "stdout",
     "output_type": "stream",
     "text": [
      "Testing for significance at level 0.1\n",
      "\n",
      "Question 1: decrease, p < 0.01  --  significant\n",
      "Question 2: increase, p = 0.19 \n",
      "Question 3: increase, p = 0.09  --  significant\n"
     ]
    }
   ],
   "source": [
    "# Data input goes here. There should be\n",
    "# 14 entries in each array for the entire\n",
    "# report, but as long as the same number\n",
    "# is in each it will generate a report.\n",
    "\n",
    "springMeans = [4, 5, 6]\n",
    "springSDs = [1.2, 1.3, 1.5]\n",
    "springNs = [35, 45, 20]\n",
    "\n",
    "fallMeans = [5, 4.8, 5.5]\n",
    "fallSDs = [1.6, 1.2, 1.0]\n",
    "fallNs = [73, 100, 40]\n",
    "\n",
    "test(0.10, springMeans, springSDs, springNs,\n",
    "             fallMeans, fallSDs, fallNs)"
   ]
  }
 ],
 "metadata": {
  "kernelspec": {
   "display_name": "Python 3 (ipykernel)",
   "language": "python",
   "name": "python3"
  },
  "language_info": {
   "codemirror_mode": {
    "name": "ipython",
    "version": 3
   },
   "file_extension": ".py",
   "mimetype": "text/x-python",
   "name": "python",
   "nbconvert_exporter": "python",
   "pygments_lexer": "ipython3",
   "version": "3.11.9"
  }
 },
 "nbformat": 4,
 "nbformat_minor": 5
}

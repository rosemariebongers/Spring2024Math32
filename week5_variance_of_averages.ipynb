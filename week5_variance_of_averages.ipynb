{
 "cells": [
  {
   "cell_type": "markdown",
   "id": "cc490196-5ff2-4da8-a485-1b94ee6d5966",
   "metadata": {},
   "source": [
    "<h2> Long-term averages </h2>\n",
    "\n",
    "In this week's notebook, you'll explore data and understand how the averages tend towards their limits. We'll generate data from different distributions and see how it settles down towards a particular value over time, by repeatedly computing averages."
   ]
  },
  {
   "cell_type": "markdown",
   "id": "b3295603-3234-443b-89d1-9cf78e34ee4e",
   "metadata": {},
   "source": [
    "<h3> Process </h3>\n",
    "\n",
    "The uniform distribution $\\operatorname{Unif}(0, 1)$ has mean $0.5$ and variance $0.0833...$; remember that this is the distribution that Python's `random()` defaults to.\n",
    "\n",
    "Instead of generating just one random number, let's generate a lot (one hundred) of them and average them: this leads to a new random variable\n",
    "$$Y = \\frac{X_1 + X_2 + \\cdots + X_{100}}{100}.$$\n",
    "In this notebook, we'll explore what happens to the variation of $Y$ compared to the variation of $X$.\n",
    "\n",
    "<h4> Question 1 </h4>\n",
    "\n",
    "* Verify (using a lot of samples) that the mean of $Y$ is $0.5$; that is, generate a lot of random choices of $Y$ and check that the average is reasonably close to $0.5$.\n",
    "\n",
    "* Estimate the variance and standard deviation of $Y$; how do they compare to the variance and standard deviation of just one uniform random variable?\n",
    "\n",
    "* If $X$ has the original $\\operatorname{Unif}(0, 1)$ distribution, then there is an $80\\%$ chance that $X$ differs from its mean by at least $0.1$: $$P(|X - 0.5| \\ge 0.1) = 80\\%.$$\n",
    "Estimate this quantity with $Y$ replacing $X$.\n",
    "\n",
    "<h4> Question 2 </h4>\n",
    "Repeat the previous part using data from an exponential distribution $\\operatorname{Exp}(0.5)$. This has mean $2$, variance $4$, and standard deviation $2$. \n",
    "\n",
    "Note that the third part has to be modified: If $X \\sim \\operatorname{Exp}(0.5)$ then $P(|X - 2| \\ge 0.1) \\approx 96.3\\%$ rather than $80\\%$. \n",
    "\n",
    "There is code in the block below which generates exponentially distributed random data.\n",
    "\n",
    "<h4> Notes </h4>\n",
    "\n",
    "You can stitch together code from past weeks' notebooks to answer this. In particular, we've generated random numbers to simulate data before, stored it, and averaged it. The code below generates random exponential data, so feel free to use it!\n"
   ]
  },
  {
   "cell_type": "code",
   "execution_count": 5,
   "id": "ff957c13-b6c6-48ca-adbe-1d89411095c7",
   "metadata": {
    "scrolled": true
   },
   "outputs": [],
   "source": [
    "from random import random\n",
    "from math import log\n",
    "\n",
    "# Generate exponential data with parameter ell. \n",
    "# We're using ell rather than \"lambda\" because\n",
    "# that's a reserved word in Python.\n",
    "\n",
    "def Exp(ell):\n",
    "    r = random()\n",
    "    # If you're interested in why this next line \n",
    "    # works, look at page 74 of the course textbook!\n",
    "    return -(1/ell) * log(r)\n",
    "\n",
    "# Example usage - uncomment this\n",
    "# print(Exp(.5))"
   ]
  },
  {
   "cell_type": "markdown",
   "id": "a52380df-f713-4cab-9560-5ecf6602c294",
   "metadata": {},
   "source": [
    "*Question 1 answers go here*"
   ]
  },
  {
   "cell_type": "markdown",
   "id": "d3220e74-865f-43ee-9412-561410476caf",
   "metadata": {},
   "source": [
    "*Question 2 answers go here*"
   ]
  }
 ],
 "metadata": {
  "kernelspec": {
   "display_name": "Python 3 (ipykernel)",
   "language": "python",
   "name": "python3"
  },
  "language_info": {
   "codemirror_mode": {
    "name": "ipython",
    "version": 3
   },
   "file_extension": ".py",
   "mimetype": "text/x-python",
   "name": "python",
   "nbconvert_exporter": "python",
   "pygments_lexer": "ipython3",
   "version": "3.11.7"
  }
 },
 "nbformat": 4,
 "nbformat_minor": 5
}

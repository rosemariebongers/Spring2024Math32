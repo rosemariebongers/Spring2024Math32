{
 "cells": [
  {
   "cell_type": "markdown",
   "id": "d98d5624-b39a-4b89-a0ba-b176b0b1e40e",
   "metadata": {},
   "source": [
    "<h2> Simultation </h2>\n",
    "\n",
    "One of the most powerful tools we have in understanding probability is to *simulate* an experiment many times; this gives us a lot of information about the long-term behavior of a model. Frequently, the best way to do this is by programming it -- we run thousands or millions of trials and gather a large amount of data regarding the typical outcomes, the average behavior or properties of a system, and more. \n",
    "\n",
    "In this notebook, we'll explore how we can simulate dice rolls using Python and generate and analyze random data for this purpose. The code blocks below will simulate throwing multiple dice, recording their outcomes, and doing computations with them."
   ]
  },
  {
   "cell_type": "markdown",
   "id": "c6f95808-0a18-42ad-80c8-69666e1cfd54",
   "metadata": {},
   "source": [
    "<h3> Simulating dice rolls: the code </h3>\n",
    "\n",
    "Python's basic way to generate random numbers is called a *uniform random variable*: it generates a number between $0$ and $1$ without any bias towards one part of the interval. No one number is more likely as an outcome than any other number.\n",
    "\n",
    "We can use this to do other random experiments too! If we generate a random number between $0$ and $1$, we can interpret it as a die roll as follows: if the number is between $0$ and $1/6$, it's a $1$; if the number is between $1/6$ and $2/6$, it's a $2$; and so on. An equivalent way to do this is to take our random number (e.g. $0.42$), multiply by $6$ and add $1$ ($0.42 \\cdot 6 + 1 = 3.52$), and round down (so we rolled a $3$). \n",
    "\n",
    "Here's code that does that. It's a bit more adaptible -- we set s variable `num_sides` that can be changed, rather than just $6$ sides. The logic is the same, though; let's roll a die ten times:"
   ]
  },
  {
   "cell_type": "code",
   "execution_count": 3,
   "id": "5e5a3078-f0ae-4a92-9302-6c948810cd5f",
   "metadata": {
    "tags": []
   },
   "outputs": [
    {
     "name": "stdout",
     "output_type": "stream",
     "text": [
      "[4, 1, 3, 3, 6, 4, 2, 2, 4, 6]\n"
     ]
    }
   ],
   "source": [
    "# Import the random number generator package \n",
    "from random import random\n",
    "\n",
    "# This code roles the die once. The def keyword\n",
    "# tells Python that we're defining a function, \n",
    "# and then we return the roll. Here, num_sides\n",
    "# is the input to the function.\n",
    "\n",
    "def roll_die(num_sides):\n",
    "    # Get the random number\n",
    "    r = random()\n",
    "\n",
    "    # Do the computation. The int(...) function\n",
    "    # is what rounds down.\n",
    "    roll = int(num_sides*r + 1)\n",
    "\n",
    "    # Return this number.\n",
    "    return roll\n",
    "\n",
    "# We're now going to roll the die ten times.\n",
    "num_trials = 10\n",
    "\n",
    "# We want to store the numbers in a list; if you\n",
    "# want to learn more about this, go to\n",
    "# https://www.w3schools.com/python/python_lists.asp\n",
    "# This just sets up an empty list.\n",
    "results = []\n",
    "\n",
    "# Roll the die however many times we want:\n",
    "for n in range(num_trials):\n",
    "    # One roll\n",
    "    roll = roll_die(6)\n",
    "\n",
    "    # Add (or: append) to the list of outcomes\n",
    "    results.append(roll)\n",
    "    \n",
    "# Print out the results\n",
    "print(results)"
   ]
  },
  {
   "cell_type": "markdown",
   "id": "fb937b05-fcc0-4589-82a1-c1c237e3fd21",
   "metadata": {},
   "source": [
    "So we have now gotten ten rolls! The first time that I ran this code, my outcome was $[2, 5, 6, 2, 3, 6, 3, 2, 1, 6]$. It's a little unusual that I didn't get a $4$, but not that unlikely.\n",
    "\n",
    "Let's make this a little bit more involved. Suppose we want to roll two dice, add their rolls, and count how many times their sum is eight. Let's also do $10,000$ experiments -- more than we can do by hand:"
   ]
  },
  {
   "cell_type": "code",
   "execution_count": 4,
   "id": "2877d5f7-3506-4432-8834-3b7c9727f053",
   "metadata": {
    "tags": []
   },
   "outputs": [
    {
     "name": "stdout",
     "output_type": "stream",
     "text": [
      "The dice added to 8 in 1386 trials out of 10000.\n"
     ]
    }
   ],
   "source": [
    "# Do 10000 trials of rolling two dice\n",
    "num_trials = 10000\n",
    "\n",
    "# We'll call a trial a success if the sum\n",
    "# is equal to 8. Start with no successes.\n",
    "success = 0\n",
    "\n",
    "# Now run the trial however many times we want\n",
    "# to, and add to our count of successes.\n",
    "for n in range(num_trials):\n",
    "    # Roll each die:\n",
    "    r1 = roll_die(6)\n",
    "    r2 = roll_die(6)\n",
    "    \n",
    "    # Test if the sum was 8. We use == to see\n",
    "    # if the left and right are equal; a single\n",
    "    # = means we're assigning a variable.\n",
    "    \n",
    "    if r1 + r2 == 8:\n",
    "        # This is short for success = success + 1.\n",
    "        # We just count one more:\n",
    "        success += 1\n",
    "        \n",
    "# Now print off how many successes there were:\n",
    "print(f'The dice added to 8 in {success} trials out of {num_trials}.')"
   ]
  },
  {
   "cell_type": "markdown",
   "id": "2916163a-3abc-4e23-9cb1-7b76a4a44044",
   "metadata": {},
   "source": [
    "Running $10000$ trials, I had $1411$ successes -- meaning that the probability of the two dice adding to $8$ is about $0.1411$. On the other hand, using the ideas from class, there are $5$ possible dice rolls out of the $36$ total which have a sum of $5$ (2-6, 3-5, 4-4, 5-3, and 6-2). This leads to a probability of $5/36 \\approx 0.139$; so our simulation was only about $2\\%$ off from the truth. This is pretty great!\n",
    "\n",
    "Let's make one last modification: we also want to store the outcomes of each experiment. We'll use a [Python set](https://www.w3schools.com/python/python_sets.asp) to do this; it's something that pairs a key (the outcome) and a value (the count for that value). The syntax is `key:value`."
   ]
  },
  {
   "cell_type": "code",
   "execution_count": 5,
   "id": "a357e1ae-6d10-42e0-b3d6-f4128fda83c9",
   "metadata": {},
   "outputs": [
    {
     "name": "stdout",
     "output_type": "stream",
     "text": [
      "Probability of summing to 2 = 0.034\n",
      "Probability of summing to 3 = 0.065\n",
      "Probability of summing to 4 = 0.084\n",
      "Probability of summing to 5 = 0.109\n",
      "Probability of summing to 6 = 0.158\n",
      "Probability of summing to 7 = 0.154\n",
      "Probability of summing to 8 = 0.135\n",
      "Probability of summing to 9 = 0.107\n",
      "Probability of summing to 10 = 0.075\n",
      "Probability of summing to 11 = 0.051\n",
      "Probability of summing to 12 = 0.028\n"
     ]
    }
   ],
   "source": [
    "# Do 1000 trials this time\n",
    "num_trials = 1000\n",
    "\n",
    "# Make the set which counts successes. For each possible\n",
    "# sum between 2 and 12, we set the count to zero; we'll then\n",
    "# add one every time that's the observed sum. Remember that\n",
    "# for the range, we have to add 1.\n",
    "counts = {r:0 for r in range(2, 13)} \n",
    "\n",
    "# Now we do the experiment:\n",
    "for _ in range(num_trials):\n",
    "\n",
    "    # Roll two dice, compute the sum\n",
    "    r1 = roll_die(6)\n",
    "    r2 = roll_die(6)\n",
    "    s = r1 + r2\n",
    "\n",
    "    # Update the count of successes. Remember that\n",
    "    # += 1 updates a variable to add 1 to it.\n",
    "    counts[s] += 1\n",
    "\n",
    "# Now print the results in a bit of a table. We're\n",
    "# counting good outcomes out of the total number of trials.\n",
    "for r in range(2, 13):\n",
    "    print(f'Probability of summing to {r} = {counts[r] / num_trials}')"
   ]
  },
  {
   "cell_type": "markdown",
   "id": "dc80ab03-8de6-4327-b6d9-cfb789a61845",
   "metadata": {},
   "source": [
    "Based on this, the most likely outcomes were $6, 7, $ and $8$. We would need to do more trials to get more certainty -- this is a pretty small simulation!\n",
    "\n",
    "<h3> Questions </h3>\n",
    "\n",
    "For the following questions, add or modify code blocks as necessary. Use the block below this one that contains your conclusions; you can copy-paste any results into that cell.\n",
    "\n",
    "1) Run a few experiments with a small number of trials (on the order of 100). Run a few experiments with a large number of trials (like 100K or more). In which case do you see more variation in the experiment results? \n",
    "\n",
    "2) If you roll three dice instead, what is/are the most common sum(s)?\n",
    "\n",
    "3) Let's change the experiment: roll two dice and multiply their values instead of adding. Make a table of the probabilities for each outcome in $\\{1, 2, ..., 36\\}$.\n",
    "\n",
    "<h4> Submitting this to Gradescope </h4>\n",
    "\n",
    "Once you've finished filling in your conclusions, generate a pdf file as in the previous week. Then upload that pdf to Gradescope and submit it to the assignment `Weekly Jupyter 2`. "
   ]
  },
  {
   "cell_type": "markdown",
   "id": "7eb429e6-cc10-40e0-9547-e3e0b95fad2e",
   "metadata": {},
   "source": [
    "<h3> Conclusions </h3>\n",
    "\n",
    "*Fill in this space!*"
   ]
  }
 ],
 "metadata": {
  "kernelspec": {
   "display_name": "Python 3 (ipykernel)",
   "language": "python",
   "name": "python3"
  },
  "language_info": {
   "codemirror_mode": {
    "name": "ipython",
    "version": 3
   },
   "file_extension": ".py",
   "mimetype": "text/x-python",
   "name": "python",
   "nbconvert_exporter": "python",
   "pygments_lexer": "ipython3",
   "version": "3.11.5"
  }
 },
 "nbformat": 4,
 "nbformat_minor": 5
}

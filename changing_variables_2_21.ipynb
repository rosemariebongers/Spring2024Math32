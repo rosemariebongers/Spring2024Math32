{
 "cells": [
  {
   "cell_type": "code",
   "execution_count": null,
   "id": "dce86fdc-0bb6-425d-b940-27bfe76970aa",
   "metadata": {},
   "outputs": [],
   "source": [
    "# In class demonstration, February 21. In this demo, you can generate\n",
    "# a large number of random numbers follow a U(0, 1) distribution,\n",
    "# and then see how the squares are distributed.\n",
    "\n",
    "# Necessary package imports; the plotting later on will require the \n",
    "# numpy and matplotlib libraries\n",
    "from random import random\n",
    "import numpy as np\n",
    "import matplotlib.pyplot as plt\n",
    "\n",
    "# We'll need this later\n",
    "from math import log\n",
    "\n",
    "def plotRandomSquares(num_trials):\n",
    "    # Make a histogram of the values of X^2 when X follows a U(0, 1)\n",
    "    # distribution. Do this by generating a lot of random numbers from the\n",
    "    # U(0, 1) distribution, then square them all.\n",
    "    \n",
    "    random_numbers = [random() for _ in range(num_trials)]\n",
    "    random_squares = [r**2 for r in random_numbers]\n",
    "    \n",
    "    # Now make a histogram\n",
    "    \n",
    "    # Make a histogram with 50 bins (this will count the number of outcomes\n",
    "    # within each bin, and then plot that number). We need to keep track\n",
    "    # of where the centers of each bin are -- this is the corresponding \n",
    "    # x-value for the point.\n",
    "    random_hist, bins = np.histogram(random_numbers, bins=50)\n",
    "    bin_centers = (bins[1:] + bins[:-1])*.5\n",
    "\n",
    "    # Make another histogram, but this time for the squares\n",
    "    square_hist, bins = np.histogram(random_squares, bins=50)\n",
    "    \n",
    "    # Set up the window and plot: the first lines set up x- and y-limits\n",
    "    # for the window size. Then the next two plot the histograms using\n",
    "    # dots for each data point.\n",
    "    plt.xlim(-.2, 1.2)\n",
    "    plt.ylim(0, 4)\n",
    "    plt.plot(bin_centers, 50*random_hist / num_trials, 'o')\n",
    "    plt.plot(bin_centers, 50*square_hist / num_trials, 'o')\n",
    "\n",
    "# Generate the random data and plot it. In order to have good-looking results,\n",
    "# make sure to use at least 10^5 random points.\n",
    "plotRandomSquares(100000)"
   ]
  },
  {
   "cell_type": "code",
   "execution_count": null,
   "id": "23931733-4293-4a91-bd95-be2a5c6d8482",
   "metadata": {},
   "outputs": [],
   "source": [
    "def plotLog(num_trials):\n",
    "    # Here, instead of squaring the data to get X^2 we'll\n",
    "    # instead take a logarithm to get Y = - log(X) / 3.\n",
    "    # We'll compute the CDF of this in class and see that\n",
    "    # Y is exponentially distributed!\n",
    "    \n",
    "    random_numbers = [random() for _ in range(num_trials)]\n",
    "    random_log = [-log(r) / 3 for r in random_numbers]\n",
    "    \n",
    "    # Plot, just like before. \n",
    "    log_hist, bins = np.histogram(random_log, bins=50)\n",
    "    bin_centers = (bins[1:] + bins[:-1])*.5\n",
    "    \n",
    "    plt.xlim(-.5, 3)\n",
    "    plt.ylim(0, 20 )\n",
    "    plt.plot(bin_centers, 50*log_hist / num_trials, 'o')\n",
    "\n",
    "plotLog(10**6)"
   ]
  }
 ],
 "metadata": {
  "kernelspec": {
   "display_name": "Python 3 (ipykernel)",
   "language": "python",
   "name": "python3"
  },
  "language_info": {
   "codemirror_mode": {
    "name": "ipython",
    "version": 3
   },
   "file_extension": ".py",
   "mimetype": "text/x-python",
   "name": "python",
   "nbconvert_exporter": "python",
   "pygments_lexer": "ipython3",
   "version": "3.12.1"
  }
 },
 "nbformat": 4,
 "nbformat_minor": 5
}

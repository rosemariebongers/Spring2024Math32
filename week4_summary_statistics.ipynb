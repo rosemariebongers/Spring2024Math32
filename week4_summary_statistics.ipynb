{
 "cells": [
  {
   "cell_type": "markdown",
   "id": "c9d94f58-4a62-4265-9a0f-1ef6999d3f44",
   "metadata": {},
   "source": [
    "<h2> Simulating means and variances </h2>\n",
    "\n",
    "<h4> Part 1: Introduction </h4>\n",
    "\n",
    "We're almost finished establishing some of our big techniques in simulation. We've learned how to simulate easy-to-describe events (like coin flips and dice rolls), and in the last notebook we learned how to generate exponentially distributed random numbers through a change of variables.\n",
    "\n",
    "In this notebook, we'll take one last look at simulation for a while -- we'll keep generating random data and studying it. Our next step will be to study actual real-world data sets and analyze them statistically. But we need one last detail: how to describe the *summary statistics* of a data set so that we can give a high-level overview of the data. We'll also get more experience working with normally distributed data. Happily, Python has a way to do that: `random.gauss()`. It's called this because normal distributions are also referred to as *Gaussian,* after Carl Friedrich Gauss."
   ]
  },
  {
   "cell_type": "markdown",
   "id": "1a4ddec1-b8f5-48ee-b887-43d446e3a608",
   "metadata": {},
   "source": [
    "<h4> Part 2: Generating data </h4>\n",
    "\n",
    "To begin, let's generate some normally distributed data and compare it to our Table B.1 by estimating $P(z \\ge 0.29)$. The table value estimates this as $0.3859$; we'll generate $10,000$ random numbers and compare."
   ]
  },
  {
   "cell_type": "code",
   "execution_count": 1,
   "id": "40e89d9b-0e05-486d-914c-b82b7dbd089c",
   "metadata": {},
   "outputs": [
    {
     "name": "stdout",
     "output_type": "stream",
     "text": [
      "Estimated probability: 0.3867\n"
     ]
    }
   ],
   "source": [
    "# Import the necessary package\n",
    "from random import gauss\n",
    "\n",
    "success = 0\n",
    "\n",
    "for _ in range(10000):\n",
    "    if gauss() > 0.29:\n",
    "        success += 1\n",
    "\n",
    "print(f'Estimated probability: {success / 10000}')"
   ]
  },
  {
   "cell_type": "markdown",
   "id": "b68a3042-04ce-4daf-922f-9d136db392c0",
   "metadata": {},
   "source": [
    "After one run, I got an estimated probability of $0.3867$, which is pretty close to the actual value!\n",
    "\n",
    "Let's continue: we can compute means and variances by directly computing averages. For the mean, we'll just take the average (`sum`) of the data set and divide by the number of trials. For the variance, we'll sum the squared deviations $(r - \\mu)^2$ before dividing."
   ]
  },
  {
   "cell_type": "code",
   "execution_count": 2,
   "id": "b6027ab9-b954-421d-a43f-7bde07c2b0ad",
   "metadata": {},
   "outputs": [
    {
     "name": "stdout",
     "output_type": "stream",
     "text": [
      "Computed mean: -0.009885511505955596\n",
      "Computed variance: 0.9872583398605822\n"
     ]
    }
   ],
   "source": [
    "# Keep going: generate 10,000 more random numbers and compute the mean and variance of the data set.\n",
    "\n",
    "randoms = [gauss() for _ in range(10000)]\n",
    "computed_mean = sum(randoms) / 10000\n",
    "\n",
    "# Keep track of the deviations from the mean: subtract and square\n",
    "squared_deviations = [(r - computed_mean)**2 for r in randoms]\n",
    "computed_variance = sum(squared_deviations) / 10000\n",
    "\n",
    "print(f'Computed mean: {computed_mean}')\n",
    "print(f'Computed variance: {computed_variance}')"
   ]
  },
  {
   "cell_type": "markdown",
   "id": "bfe0734f-878a-4a0f-942b-31da86316f75",
   "metadata": {},
   "source": [
    "After running this with 10,000 numbers, I came up with a computed mean of $-0.00986$ and a variance of $0.9873$. These are both really close to the actual parameters of the distribution -- which are $0$ and $1$, respectively!\n",
    "\n",
    "In fact, this is a really important technique we'll use later: take some data from the real world, make a guess at the distribution it follows, estimate the parameters of that distribution, and then see how well our hypothesis fits the data. This is one of the core ideas of applied statistics. "
   ]
  },
  {
   "cell_type": "markdown",
   "id": "38817c1f-0709-4863-af29-eeb3509f5a45",
   "metadata": {},
   "source": [
    "<h4> Part 3: Questions </h4>\n",
    "\n",
    "(1) A standard rule of thumb is the [68-95-99.7](https://en.wikipedia.org/wiki/68–95–99.7_rule) rule, which refers to the probabilities of $P(-1 \\le Z \\le 1)$, $P(-2 \\le Z \\le 2)$, and $P(-3 \\le Z \\le 3)$ for a random variable $Z \\sim N(0, 1)$. \n",
    "\n",
    "Generate at least $100,000$ random numbers from a Gaussian distribution and **estimate these three probabilities**; how well does your computed data match the rule?\n",
    "\n",
    "(2) **Estimate a threshold** $\\alpha$ for which $P(Z \\le \\alpha) = 0.80$, again using at least $100,000$ trials. Compare your result to Table B.1 (or any other $z$-table!).  \n",
    "\n",
    "(3) Many important distributions can be found by modifying the standard normal one. Two of these are the  [chi-squared distribution](https://en.wikipedia.org/wiki/Chi-squared_distribution) (which is the sum of squares of normally distributed random variables) and the [folded normal distribution](https://en.wikipedia.org/wiki/Folded_normal_distribution), which is the absolute value $|Z|$ of a normal random variable. **Estimates the means and variances** of these two distributions (the linked articles have the computed values if you'd like to compare!).\n",
    "\n",
    "Note: the absolute value in Python is given by `abs()`.\n",
    "\n",
    "<h4> Submission instructions: </h4>\n",
    "\n",
    "When you've finished your notebook, **save and export it as a pdf** (this is an option under the `file` menu). Upload it to Gradescope under the assignment \"Weekly Jupyter 4.\" Do not submit any screenshots of your code."
   ]
  },
  {
   "cell_type": "markdown",
   "id": "ebe911c1-f6e8-401a-b992-3073af52e933",
   "metadata": {},
   "source": [
    "<h4> Part 4: Submitting your work to Gradescope </h4>\n",
    "\n",
    "Add or modify code as needed to answer the questions in the above two parts. Then put your conclusions in the text cells below. As always, export your notebook as a pdf and upload it to Canvas by the homework deadline."
   ]
  },
  {
   "cell_type": "markdown",
   "id": "805b49b6-bdd0-44ca-aae9-f15c438dc27f",
   "metadata": {},
   "source": [
    "*Question 1 answers go here*"
   ]
  },
  {
   "cell_type": "markdown",
   "id": "517f55ba-6029-4be6-9b7b-75c8eb241a44",
   "metadata": {},
   "source": [
    "*Question 2 answers go here*"
   ]
  },
  {
   "cell_type": "markdown",
   "id": "8243c9c9-f2d2-4f5d-bafd-04b80c1bd217",
   "metadata": {},
   "source": [
    "*Question 3 answers go here*"
   ]
  }
 ],
 "metadata": {
  "kernelspec": {
   "display_name": "Python 3 (ipykernel)",
   "language": "python",
   "name": "python3"
  },
  "language_info": {
   "codemirror_mode": {
    "name": "ipython",
    "version": 3
   },
   "file_extension": ".py",
   "mimetype": "text/x-python",
   "name": "python",
   "nbconvert_exporter": "python",
   "pygments_lexer": "ipython3",
   "version": "3.11.5"
  }
 },
 "nbformat": 4,
 "nbformat_minor": 5
}
